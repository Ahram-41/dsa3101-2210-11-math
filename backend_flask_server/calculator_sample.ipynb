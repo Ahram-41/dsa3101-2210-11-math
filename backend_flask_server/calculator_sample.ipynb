{
 "cells": [
  {
   "cell_type": "code",
   "execution_count": 1,
   "metadata": {},
   "outputs": [
    {
     "name": "stdout",
     "output_type": "stream",
     "text": [
      "Requirement already satisfied: latex2sympy2 in /opt/homebrew/Caskroom/miniforge/base/envs/bttr/lib/python3.7/site-packages (1.7.8)\n",
      "Requirement already satisfied: sympy>=1.4 in /opt/homebrew/Caskroom/miniforge/base/envs/bttr/lib/python3.7/site-packages (from latex2sympy2) (1.10.1)\n",
      "Requirement already satisfied: antlr4-python3-runtime==4.7.2 in /opt/homebrew/Caskroom/miniforge/base/envs/bttr/lib/python3.7/site-packages (from latex2sympy2) (4.7.2)\n",
      "Requirement already satisfied: mpmath>=0.19 in /opt/homebrew/Caskroom/miniforge/base/envs/bttr/lib/python3.7/site-packages (from sympy>=1.4->latex2sympy2) (1.2.1)\n",
      "Note: you may need to restart the kernel to use updated packages.\n"
     ]
    }
   ],
   "source": [
    "%pip install latex2sympy2"
   ]
  },
  {
   "cell_type": "code",
   "execution_count": 2,
   "metadata": {},
   "outputs": [
    {
     "data": {
      "text/latex": [
       "$\\displaystyle \\frac{d}{d x} \\left(x^{2} + x\\right)$"
      ],
      "text/plain": [
       "Derivative(x**2 + x, x)"
      ]
     },
     "execution_count": 2,
     "metadata": {},
     "output_type": "execute_result"
    }
   ],
   "source": [
    "from latex2sympy2 import latex2sympy, latex2latex\n",
    "\n",
    "tex = r\"\\frac{d}{dx}(x^{2}+x)\"\n",
    "# Or you can use '\\mathrm{d}' to replace 'd'\n",
    "latex2sympy(tex)\n",
    "# => \"Derivative(x**2 + x, x)\"\n"
   ]
  },
  {
   "cell_type": "code",
   "execution_count": 3,
   "metadata": {},
   "outputs": [
    {
     "data": {
      "text/plain": [
       "'2 x + 1'"
      ]
     },
     "execution_count": 3,
     "metadata": {},
     "output_type": "execute_result"
    }
   ],
   "source": [
    "latex2latex(tex)"
   ]
  },
  {
   "cell_type": "code",
   "execution_count": 5,
   "metadata": {},
   "outputs": [
    {
     "data": {
      "text/plain": [
       "True"
      ]
     },
     "execution_count": 5,
     "metadata": {},
     "output_type": "execute_result"
    }
   ],
   "source": [
    "\n",
    "# tex = r\"\\frac{\\left(\\begin{array}{l}1 \\\\ 1\\end{array}\\right)\\left(\\begin{array}{l}7 \\\\ 3\\end{array}\\right)}{\\left(\\begin{array}{l}8 \\\\ 4\\end{array}\\right)} \"\n",
    "tex = r\"\\frac{\\binom{1}{1} \\times \\binom{7}{3} }{\\binom{8}{4}}\"\n",
    "# tex = r\"\\frac{\\binom{1}{1} \\times \\binom{7}{3} }{\\binom{8}{4}} \n",
    "# latex2sympy(r\"\\frac{1}{2} \\times \\frac{5}{9}\")\n",
    "latex2sympy(tex).equals(0.5)\n"
   ]
  }
 ],
 "metadata": {
  "kernelspec": {
   "display_name": "Python 3.7.12 ('bttr')",
   "language": "python",
   "name": "python3"
  },
  "language_info": {
   "codemirror_mode": {
    "name": "ipython",
    "version": 3
   },
   "file_extension": ".py",
   "mimetype": "text/x-python",
   "name": "python",
   "nbconvert_exporter": "python",
   "pygments_lexer": "ipython3",
   "version": "3.7.12"
  },
  "orig_nbformat": 4,
  "vscode": {
   "interpreter": {
    "hash": "d1842479d1ed60b990cb0bee73e64830b87985212a618ac60867b4d399f9cba5"
   }
  }
 },
 "nbformat": 4,
 "nbformat_minor": 2
}
