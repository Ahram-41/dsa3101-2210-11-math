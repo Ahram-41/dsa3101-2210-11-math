{
  "cells": [
    {
      "cell_type": "code",
      "execution_count": 3,
      "metadata": {
        "id": "qVLsh20OfCqu"
      },
      "outputs": [],
      "source": [
        "#!/usr/bin/env python\n",
        "import convert_latex"
      ]
    },
    {
      "cell_type": "code",
      "execution_count": 5,
      "metadata": {
        "colab": {
          "base_uri": "https://localhost:8080/",
          "height": 175
        },
        "id": "5F0EwqptipYk",
        "outputId": "eb8b60ea-95a4-437d-c9e1-6c47e2ea42b6"
      },
      "outputs": [
        {
          "data": {
            "text/plain": [
              "\"(a) $P\\\\left(A_{1} \\\\cup A_{2}\\\\right) \\\\leq 1$\\n\\\\[\\nP\\\\left(A_{1}\\\\right) \\\\leqslant 1, P\\\\left(A_{2}\\\\right) \\\\leqslant 1\\n\\\\]\\n0: $P\\\\left(A_{1} \\\\cup A_{2}\\\\right)=P\\\\left(A_{1}\\\\right)+P\\\\left(A_{2}\\\\right)-P\\\\left(A_{1} A_{2}\\\\right)$,\\nand $\\\\because P\\\\left(A_{1} A_{2}\\\\right) \\\\geqslant 0$,\\n$P\\\\left(A_{1} \\\\cup A_{2}\\\\right) \\\\leq P\\\\left(A_{1}\\\\right)+P\\\\left(A_{2}\\\\right)$ (prored $) !$.\\n(b) For $n=2, P\\\\left(A_{1} \\\\cup A_{2}\\\\right) \\\\leqslant P\\\\left(A_{1}\\\\right)+P\\\\left(A_{2}\\\\right)$ (from part $(a)$ ). Hence, base case holds thee. Assuming formula is twe for $n=k$, we must now prove formula holds twe for $n=k+1$. ie assume $P\\\\left(\\\\bigcup_{i=1}^{k} A_{i}\\\\right) \\\\leqslant \\\\sum_{i=1}^{k} P\\\\left(A_{i}\\\\right)$ tive, prove $: P\\\\left(\\\\bigcup_{i=1}^{k+1} A_{i}\\\\right) \\\\leqslant \\\\sum_{i=1}^{k+1} P\\\\left(A_{i}\\\\right)$.\\n\\\\[\\n\\\\begin{aligned}\\nP\\\\left(\\\\bigcup_{i=1}^{k+1} A_{i}\\\\right)=P\\\\left(\\\\bigcup_{i=1}^{k} A_{i} \\\\quad U \\\\quad A_{k+1}\\\\right) & \\\\approx P\\\\left(\\\\bigcup_{i=1}^{k} A_{i}\\\\right)+P\\\\left(A_{k+1}\\\\right) \\\\\\\\\\n& \\\\leqslant \\\\sum_{i=1}^{k} P\\\\left(A_{i}\\\\right)+P\\\\left(A_{k+1}\\\\right)\\n\\\\end{aligned}\\n\\\\]\\n$=\\\\sum_{i=1}^{k+1} P\\\\left(A_{i}\\\\right)$ (Showh)/1.\\n(c) $\\\\because \\\\sum_{i=1}^{n} P\\\\left(A_{i}\\\\right)=P\\\\left(A_{1}\\\\right)+P\\\\left(A_{2}\\\\right)+\\\\ldots+P\\\\left(A_{i n}\\\\right)$\\n(d) By De Morgan's Law,\\n$=0+0+\\\\ldots+0$\\n$\\\\begin{aligned} P\\\\left(\\\\bigcup_{i=1}^{n} A_{i}\\\\right) &=\\\\left(A_{1} \\\\cup A_{2} \\\\cup \\\\ldots \\\\cup A_{N}\\\\right)^{c} \\\\\\\\ &=A_{1}{ }^{c} A_{2}{ }^{c} A_{3}{ }^{c} \\\\ldots A_{N}{ }^{c} \\\\end{aligned}$\\n$\\\\sum_{i=1}^{n} P\\\\left(A_{i}\\\\right)=0$\\no: $\\\\bigcup_{i=1}^{n} P\\\\left(A_{i}\\\\right) \\\\leqslant \\\\sum_{i=1}^{n} P\\\\left(A_{i}\\\\right)$ from $\\\\operatorname{Par}+(b)$,\\nthen $\\\\bigcup_{i=1}^{n} P\\\\left(A_{i}\\\\right)=O(\\\\text { show } n)_{11}$.\\n$P\\\\left(\\\\bigcup_{i=1}^{n} A_{i}\\\\right)^{c}=P\\\\left(\\\\bigcap_{i=1}^{n} A_{i}\\\\right)$\\n1\\n$=1-0$\\n$=1$ (shown).\""
            ]
          },
          "execution_count": 5,
          "metadata": {},
          "output_type": "execute_result"
        }
      ],
      "source": [
        "convert_latex.request_body(\"ST2131_Tut1_T03_Q1_test.png\")"
      ]
    }
  ],
  "metadata": {
    "colab": {
      "collapsed_sections": [],
      "provenance": []
    },
    "kernelspec": {
      "display_name": "Python 3.7.12 ('bttr')",
      "language": "python",
      "name": "python3"
    },
    "language_info": {
      "codemirror_mode": {
        "name": "ipython",
        "version": 3
      },
      "file_extension": ".py",
      "mimetype": "text/x-python",
      "name": "python",
      "nbconvert_exporter": "python",
      "pygments_lexer": "ipython3",
      "version": "3.7.12"
    },
    "vscode": {
      "interpreter": {
        "hash": "d1842479d1ed60b990cb0bee73e64830b87985212a618ac60867b4d399f9cba5"
      }
    }
  },
  "nbformat": 4,
  "nbformat_minor": 0
}
