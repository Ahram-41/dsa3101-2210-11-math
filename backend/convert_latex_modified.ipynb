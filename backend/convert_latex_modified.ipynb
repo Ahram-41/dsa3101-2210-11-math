{
  "nbformat": 4,
  "nbformat_minor": 0,
  "metadata": {
    "colab": {
      "provenance": [],
      "collapsed_sections": []
    },
    "kernelspec": {
      "name": "python3",
      "display_name": "Python 3"
    },
    "language_info": {
      "name": "python"
    }
  },
  "cells": [
    {
      "cell_type": "code",
      "execution_count": 47,
      "metadata": {
        "id": "qVLsh20OfCqu"
      },
      "outputs": [],
      "source": [
        "#!/usr/bin/env python\n",
        "import requests\n",
        "import json\n",
        "from zipfile import ZipFile\n",
        "\n",
        "def request_body(file_path):\n",
        "      r = requests.post(\"https://api.mathpix.com/v3/text\",\n",
        "       files={\"file\": open(file_path,\"rb\")},\n",
        "       data={\n",
        "         \"options_json\": json.dumps({\n",
        "           \"math_inline_delimiters\": [\"$\", \"$\"],\n",
        "            \"rm_spaces\": False,\n",
        "            \"formats\":[\"text\",\"latex_styled\"]\n",
        "          })\n",
        "       },\n",
        "        headers={\n",
        "           \"app_id\": \"chenyichi41_gmail_com_d4e21c_7225fe\",\n",
        "            \"app_key\": \"ddc6e8e904b4f7ffcedd76d87fbd010ba27f0269e026137e8899e00cc6bb93f9\"\n",
        "        }\n",
        "    )\n",
        "      if r.json().has_key(\"latex_styled\"):\n",
        "        return r.json().get(\"latex_styled\")\n",
        "      else:\n",
        "        return r.json().get(\"text\")\n",
        "      \n",
        "    \n",
        "  \n"
      ]
    },
    {
      "cell_type": "code",
      "source": [
        "request_body(\"ST2131_Tut1_T03_Q1_test.png\")"
      ],
      "metadata": {
        "colab": {
          "base_uri": "https://localhost:8080/"
        },
        "id": "5F0EwqptipYk",
        "outputId": "964b067e-840f-48bd-c038-74c83e83f724"
      },
      "execution_count": null,
      "outputs": [
        {
          "output_type": "execute_result",
          "data": {
            "text/plain": [
              "{'request_id': '2022_10_24_eb8b33fd06c50c50b85dg',\n",
              " 'version': 'RSK-M103',\n",
              " 'image_width': 985,\n",
              " 'image_height': 885,\n",
              " 'is_printed': False,\n",
              " 'is_handwritten': True,\n",
              " 'auto_rotate_confidence': 7.152552257139178e-07,\n",
              " 'auto_rotate_degrees': 0,\n",
              " 'confidence': 0.10278731544554935,\n",
              " 'confidence_rate': 0.5803908733335916,\n",
              " 'text': \"(a) $P \\\\left( A _ { 1 } \\\\cup A _ { 2 } \\\\right) \\\\leqslant 1$\\n\\\\[\\nP \\\\left( A _ { 1 } \\\\right) \\\\leqslant 1 , P \\\\left( A _ { 2 } \\\\right) \\\\leqslant 1\\n\\\\]\\n0: $P \\\\left( A _ { 1 } \\\\cup A _ { 2 } \\\\right) = P \\\\left( A _ { 1 } \\\\right) + P \\\\left( A _ { 2 } \\\\right) - P \\\\left( A _ { 1 } A _ { 2 } \\\\right)$,\\nand $\\\\because P \\\\left( A _ { 1 } A _ { 2 } \\\\right) \\\\geqslant 0$,\\n$P \\\\left( A _ { 1 } \\\\cup A _ { 2 } \\\\right) \\\\leq P \\\\left( A _ { 1 } \\\\right) + P \\\\left( A _ { 2 } \\\\right)$ (prored $) !$.\\n(b) For $n = 2 , P \\\\left( A _ { 1 } \\\\cup A _ { 2 } \\\\right) \\\\leqslant P \\\\left( A _ { 1 } \\\\right) + P \\\\left( A _ { 2 } \\\\right)$ (from part $( a )$ ). Hence, base case holds thee. Assuming formula is twe for $n = k$, we must now prove formula holds twe for $n = k + 1$. ie assume $P \\\\left( \\\\bigcup _ { i = 1 } ^ { k } A _ { i } \\\\right) \\\\leqslant \\\\sum _ { i = 1 } ^ { k } P \\\\left( A _ { i } \\\\right)$ tive, prove $: P \\\\left( \\\\bigcup _ { i = 1 } ^ { k + 1 } A _ { i } \\\\right) \\\\leqslant \\\\sum _ { i = 1 } ^ { k + 1 } P \\\\left( A _ { i } \\\\right)$.\\n\\\\[\\n\\\\begin{aligned}\\nP \\\\left( \\\\bigcup _ { i = 1 } ^ { k + 1 } A _ { i } \\\\right) = P \\\\left( \\\\bigcup _ { i = 1 } ^ { k } A _ { i } \\\\quad U \\\\quad A _ { k + 1 } \\\\right) & \\\\approx P \\\\left( \\\\bigcup _ { i = 1 } ^ { k } A _ { i } \\\\right) + P \\\\left( A _ { k + 1 } \\\\right) \\\\\\\\\\n& \\\\leqslant \\\\sum _ { i = 1 } ^ { k } P \\\\left( A _ { i } \\\\right) + P \\\\left( A _ { k + 1 } \\\\right)\\n\\\\end{aligned}\\n\\\\]\\n$= \\\\sum _ { i = 1 } ^ { k + 1 } P \\\\left( A _ { i } \\\\right.$ ) (Showh)/1.\\n(c) $\\\\because \\\\sum _ { i = 1 } ^ { n } P \\\\left( A _ { i } \\\\right) = P \\\\left( A _ { 1 } \\\\right) + P \\\\left( A _ { 2 } \\\\right) + \\\\ldots + P \\\\left( A _ { i n } \\\\right)$\\n(d) By De Morgan's Law,\\n$= 0 + 0 + \\\\ldots + 0$\\n$\\\\sum _ { i = 1 } ^ { n } P \\\\left( A _ { i } \\\\right) = 0$\\no: $\\\\bigcup _ { i = 1 } ^ { n } P \\\\left( A _ { i } \\\\right) \\\\leqslant \\\\sum _ { i = 1 } ^ { n } P \\\\left( A _ { i } \\\\right)$ from $\\\\operatorname { Par } + ( b )$,\\nthen $\\\\bigcup _ { i = 1 } ^ { n } P \\\\left( A _ { i } \\\\right) = O ( \\\\text { show } n ) _ { 11 }$.\\n$P \\\\left( \\\\bigcup _ { i = 1 } ^ { n } A _ { i } \\\\right) ^ { c } = P \\\\left( \\\\bigcap _ { i = 1 } ^ { n } A _ { i } \\\\right)$\\n1\\n$= 1 - 0$\\n$= 1$ (shown).\"}"
            ]
          },
          "metadata": {},
          "execution_count": 8
        }
      ]
    },
    {
      "cell_type": "code",
      "source": [
        "filename = \"Sample_submission_folder.zip\"\n",
        "\n",
        "import os\n",
        "def get_convert_from_zip(filename):\n",
        "  with ZipFile(filename, 'r') as zip:\n",
        "    zip.extractall()\n",
        "    dir = filename[:-4]\n",
        "\n",
        "    dic = {}\n",
        "    for file in os.listdir(dir):\n",
        "      filename = os.fsdecode(file)\n",
        "      for file in os.listdir(dir + \"/\" + filename):\n",
        "        filename_1 = os.fsdecode(file)\n",
        "        for file in os.listdir(dir + \"/\" + filename + \"/\" + filename_1):\n",
        "          filename_2 = os.fsdecode(file)\n",
        "          if filename_2.endswith(\".png\"):\n",
        "            str_ = request_body(dir + \"/\" + filename + \"/\" + filename_1 +\"/\"+ filename_2)\n",
        "            dic[filename_2]=str_\n",
        "  return dic\n",
        "\n",
        "dic\n",
        "  #for file in files:\n",
        "   # string = request_body(file)\n",
        "    #dic[file] = string\n"
      ],
      "metadata": {
        "colab": {
          "base_uri": "https://localhost:8080/"
        },
        "id": "fBaQxT0w8oiY",
        "outputId": "dccbf00f-ecb8-45e7-e219-592bce8043db"
      },
      "execution_count": 49,
      "outputs": [
        {
          "output_type": "execute_result",
          "data": {
            "text/plain": [
              "{'ST2131_Tut7_T05_Q2_P1_S0002.png': {'request_id': '2022_10_25_d48e216c95dbb8d0bb18g',\n",
              "  'version': 'RSK-M103',\n",
              "  'image_width': 1372,\n",
              "  'image_height': 1142,\n",
              "  'is_printed': False,\n",
              "  'is_handwritten': True,\n",
              "  'auto_rotate_confidence': 0.00014314985899943622,\n",
              "  'auto_rotate_degrees': 0,\n",
              "  'confidence': 0.001501631615750182,\n",
              "  'confidence_rate': 0.4744699286757466,\n",
              "  'text': 'Let $x$ be the amount you bidded, Find $x$ that leads to highest $E ( w )$, and $W$ be the profit you made. where $100 \\\\leqslant x \\\\leqslant 140$ Let $Y$ be minimum bid by other company\\nsupport of $X$ is\\nForafixed $x , W = \\\\left\\\\{ \\\\begin{aligned} ( x - 100 ) , \\\\text { with probability } \\\\frac { 140 - x } { 70 } & & = \\\\frac { 1 } { 70 } ( x - 100 ) \\\\\\\\ 0 , \\\\text { with probability } \\\\frac { x - 70 } { 70 } & & = \\\\frac { 1 } { 70 } ( 140 x - \\\\\\\\ f _ { x } ( x ) = f _ { y } ( y ) = \\\\frac { 1 } { 70 } & & E ( w ) = \\\\frac { 1 } { 70 } ( 240 x - 1 & = \\\\frac { 24 } { 7 } x - \\\\frac { 1 } { 7 } \\\\\\\\ y - 70 & & \\\\frac { d ( E ( \\\\omega ) ) } { d x } = \\\\frac { 24 } { 7 } - \\\\frac { 1 } { 35 } x \\\\end{aligned} \\\\right.$\\n$F _ { y } ( y ) = \\\\frac { y - 70 } { 70 } \\\\quad$ when $\\\\frac { d ( E ( \\\\omega ) ) } { d x } = 0$,\\n$\\\\frac { 1 } { 35 } x = \\\\frac { 24 } { 7 }$\\n$x = 120$\\n$\\\\frac { d ^ { 2 } ( E ( \\\\omega ) ) } { d x ^ { 2 } } = - \\\\frac { 1 } { 35 }$\\n$\\\\because - \\\\frac { 1 } { 35 } < 0 , \\\\frac { d ^ { 2 } ( E ( \\\\omega ) ) } { d x ^ { 2 } } < 0$,\\n$\\\\therefore$ profit is maximired.\\n$\\\\therefore$ you should bid $\\\\$ 120,000$.'},\n",
              " 'ST2131_Tut7_T05_Q2_P1_S0001.png': {'request_id': '2022_10_25_978389f5b943d935ab5cg',\n",
              "  'version': 'RSK-M103',\n",
              "  'image_width': 1250,\n",
              "  'image_height': 1154,\n",
              "  'is_printed': False,\n",
              "  'is_handwritten': True,\n",
              "  'auto_rotate_confidence': 3.647671195494695e-05,\n",
              "  'auto_rotate_degrees': 0,\n",
              "  'confidence': 0.29425612752037505,\n",
              "  'confidence_rate': 0.6869385761425998,\n",
              "  'text': 'Let $X$ be amount you bidded, $W$ be profit made.\\n$W = \\\\left\\\\{ \\\\begin{array} { l } \\\\text { For with } P ( \\\\text { win bid } ) \\\\\\\\ \\\\square \\\\text { with } P ( \\\\text { lose bord } ) \\\\end{array} \\\\right.$\\n$= \\\\frac { 140 x - x ^ { 2 } - 14000 + 100 x } { 70 }$\\n$= \\\\frac { 240 x - x ^ { 2 } - 14000 } { 70 }$\\ndifferentinte W.rit. $u$\\n\\\\[\\n\\\\begin{aligned}\\n\\\\frac { d } { d x } E ( w ) & = \\\\frac { 24 } { 7 } - \\\\frac { 1 } { 70 } ( 2 x ) \\\\\\\\\\n& = \\\\frac { 24 } { 7 } - \\\\frac { 2 } { 70 } x\\n\\\\end{aligned}\\n\\\\]\\nwhen $\\\\frac { d } { d x } E ( W ) = 0 , \\\\frac { 24 } { 7 } - \\\\frac { 2 } { 70 } x = 0$\\n\\\\[\\n\\\\begin{aligned}\\nx & = 120 \\\\\\\\\\n\\\\frac { d } { d x } \\\\left[ \\\\frac { d } { d x } E ( w ) \\\\right] = - \\\\frac { 2 } { 70 } ( < 0 )\\n\\\\end{aligned}\\n\\\\]\\n$\\\\therefore E ( w )$ is maximum when $x = 120$.\\nHence, 1 should bid $\\\\$ 120,000$.'},\n",
              " 'ST2131_Tut7_T05_Q1_P1_S0003.png': {'request_id': '2022_10_25_e6f5d6cc5e8a48cd3690g',\n",
              "  'version': 'RSK-M103',\n",
              "  'image_width': 1318,\n",
              "  'image_height': 670,\n",
              "  'is_printed': False,\n",
              "  'is_handwritten': True,\n",
              "  'auto_rotate_confidence': 3.576277407546513e-07,\n",
              "  'auto_rotate_degrees': 0,\n",
              "  'confidence': 0.6200364741329523,\n",
              "  'confidence_rate': 0.8620119735210311,\n",
              "  'text': 'CDF:\\n\\\\[\\n\\\\begin{aligned}\\nF _ { x } ( x ) = P ( x \\\\leq x ) & = P ( \\\\ln y \\\\leq x ) \\\\\\\\\\n& = P \\\\left( y \\\\leq e ^ { x } \\\\right) \\\\\\\\\\n& = F _ { y } \\\\left( e ^ { x } \\\\right)\\n\\\\end{aligned}\\n\\\\]\\nPDF\\n$f _ { x } ( x ) = \\\\frac { d } { \\\\partial x } F _ { y } \\\\left( e ^ { x } \\\\right)$'},\n",
              " 'ST2131_Tut7_T05_Q1_P1_S0002.png': {'request_id': '2022_10_25_2b94b7ed6a2b9d56178cg',\n",
              "  'version': 'RSK-M103',\n",
              "  'image_width': 636,\n",
              "  'image_height': 504,\n",
              "  'is_printed': False,\n",
              "  'is_handwritten': True,\n",
              "  'auto_rotate_confidence': 1.1920927533992653e-07,\n",
              "  'auto_rotate_degrees': 0,\n",
              "  'confidence': 0.9849379705093753,\n",
              "  'confidence_rate': 0.9849379705093753,\n",
              "  'latex_styled': '\\\\begin{aligned}\\nF _ { x } ( x ) = P ( x \\\\leqslant x ) & = P ( \\\\ln y \\\\leqslant x ) \\\\\\\\\\n& = P \\\\left( y \\\\leqslant e ^ { x } \\\\right) \\\\\\\\\\n& = F _ { y } \\\\left( e ^ { x } \\\\right) \\\\\\\\\\nf _ { x } ( x ) & = \\\\frac { d } { d x } F _ { y } \\\\left( e ^ { x } \\\\right) \\\\\\\\\\n& = f _ { y } \\\\left( e ^ { x } \\\\right) \\\\cdot e ^ { x } \\\\\\\\\\n& = e ^ { x } \\\\cdot e ^ { - e ^ { x } } \\\\\\\\\\n& = e ^ { x - e ^ { x } }\\n\\\\end{aligned}',\n",
              "  'text': '$\\\\begin{aligned} F _ { x } ( x ) = P ( x \\\\leqslant x ) & = P ( \\\\ln y \\\\leqslant x ) \\\\\\\\ & = P \\\\left( y \\\\leqslant e ^ { x } \\\\right) \\\\\\\\ & = F _ { y } \\\\left( e ^ { x } \\\\right) \\\\\\\\ f _ { x } ( x ) & = \\\\frac { d } { d x } F _ { y } \\\\left( e ^ { x } \\\\right) \\\\\\\\ & = f _ { y } \\\\left( e ^ { x } \\\\right) \\\\cdot e ^ { x } \\\\\\\\ & = e ^ { x } \\\\cdot e ^ { - e ^ { x } } \\\\\\\\ & = e ^ { x - e ^ { x } } \\\\end{aligned}$'},\n",
              " 'ST2131_Tut7_T05_Q1_P1_S0001.png': {'request_id': '2022_10_25_d7f1023df6978334c019g',\n",
              "  'version': 'RSK-M103',\n",
              "  'image_width': 632,\n",
              "  'image_height': 694,\n",
              "  'is_printed': False,\n",
              "  'is_handwritten': True,\n",
              "  'auto_rotate_confidence': 1.2636025019219232e-05,\n",
              "  'auto_rotate_degrees': 0,\n",
              "  'confidence': 0.0064083886296350525,\n",
              "  'confidence_rate': 0.0064083886296350525,\n",
              "  'latex_styled': '\\\\begin{aligned}\\nf _ { x } ( x ) = f _ { y } \\\\left( g ^ { - 1 } ( x ) \\\\right) \\\\left| \\\\frac { d } { d y } z ^ { - 1 } ( x ) \\\\right| \\\\\\\\\\nF _ { x } ( w ) & = P ( y \\\\leqslant x ) \\\\\\\\\\n& = p ( \\\\ln Y \\\\leqslant x ) \\\\\\\\\\n& = p \\\\left( y \\\\leqslant e ^ { x } \\\\right) \\\\\\\\\\n& = F _ { y } \\\\left( e ^ { x } \\\\right) \\\\\\\\\\nf _ { x } ( x ) & = \\\\frac { d } { d x } F _ { x } ( x ) \\\\\\\\\\n& = \\\\frac { d } { d x } F _ { y } \\\\left( e ^ { x } \\\\right) \\\\\\\\\\n& = e ^ { x } \\\\cdot f _ { y } \\\\left( e ^ { x } \\\\right) \\\\\\\\\\n& = e ^ { x } \\\\cdot e ^ { - e ^ { x } } \\\\\\\\\\n& = e ^ { x - e ^ { x } }\\n\\\\end{aligned}',\n",
              "  'text': '$\\\\begin{aligned} f _ { x } ( x ) = f _ { y } \\\\left( g ^ { - 1 } ( x ) \\\\right) \\\\left| \\\\frac { d } { d y } z ^ { - 1 } ( x ) \\\\right| \\\\\\\\ F _ { x } ( w ) & = P ( y \\\\leqslant x ) \\\\\\\\ & = p ( \\\\ln Y \\\\leqslant x ) \\\\\\\\ & = p \\\\left( y \\\\leqslant e ^ { x } \\\\right) \\\\\\\\ & = F _ { y } \\\\left( e ^ { x } \\\\right) \\\\\\\\ f _ { x } ( x ) & = \\\\frac { d } { d x } F _ { x } ( x ) \\\\\\\\ & = \\\\frac { d } { d x } F _ { y } \\\\left( e ^ { x } \\\\right) \\\\\\\\ & = e ^ { x } \\\\cdot f _ { y } \\\\left( e ^ { x } \\\\right) \\\\\\\\ & = e ^ { x } \\\\cdot e ^ { - e ^ { x } } \\\\\\\\ & = e ^ { x - e ^ { x } } \\\\end{aligned}$'}}"
            ]
          },
          "metadata": {},
          "execution_count": 49
        }
      ]
    }
  ]
}