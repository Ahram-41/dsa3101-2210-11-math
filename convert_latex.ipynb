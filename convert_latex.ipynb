{
  "nbformat": 4,
  "nbformat_minor": 0,
  "metadata": {
    "colab": {
      "provenance": [],
      "collapsed_sections": []
    },
    "kernelspec": {
      "name": "python3",
      "display_name": "Python 3"
    },
    "language_info": {
      "name": "python"
    }
  },
  "cells": [
    {
      "cell_type": "code",
      "execution_count": 7,
      "metadata": {
        "id": "qVLsh20OfCqu"
      },
      "outputs": [],
      "source": [
        "#!/usr/bin/env python\n",
        "import requests\n",
        "import json\n",
        "\n",
        "\n",
        "def request_body(file_path):\n",
        "      r = requests.post(\"https://api.mathpix.com/v3/text\",\n",
        "       files={\"file\": open(file_path,\"rb\")},\n",
        "       data={\n",
        "         \"options_json\": json.dumps({\n",
        "           \"math_inline_delimiters\": [\"$\", \"$\"],\n",
        "            \"rm_spaces\": True\n",
        "          })\n",
        "       },\n",
        "        headers={\n",
        "           \"app_id\": \"chenyichi41_gmail_com_d4e21c_7225fe\",\n",
        "            \"app_key\": \"ddc6e8e904b4f7ffcedd76d87fbd010ba27f0269e026137e8899e00cc6bb93f9\"\n",
        "        }\n",
        "    )\n",
        "      latex = r.json().get(\"text\")\n",
        "      return latex \n",
        "  \n"
      ]
    },
    {
      "cell_type": "code",
      "source": [
        "request_body(\"ST2131_Tut1_T03_Q1_test.png\")"
      ],
      "metadata": {
        "colab": {
          "base_uri": "https://localhost:8080/",
          "height": 175
        },
        "id": "5F0EwqptipYk",
        "outputId": "eb8b60ea-95a4-437d-c9e1-6c47e2ea42b6"
      },
      "execution_count": 8,
      "outputs": [
        {
          "output_type": "execute_result",
          "data": {
            "text/plain": [
              "\"(a) $P\\\\left(A_{1} \\\\cup A_{2}\\\\right) \\\\leq 1$\\n\\\\[\\nP\\\\left(A_{1}\\\\right) \\\\leqslant 1, P\\\\left(A_{2}\\\\right) \\\\leqslant 1\\n\\\\]\\n0: $P\\\\left(A_{1} \\\\cup A_{2}\\\\right)=P\\\\left(A_{1}\\\\right)+P\\\\left(A_{2}\\\\right)-P\\\\left(A_{1} A_{2}\\\\right)$,\\nand $\\\\because P\\\\left(A_{1} A_{2}\\\\right) \\\\geqslant 0$,\\n$P\\\\left(A_{1} \\\\cup A_{2}\\\\right) \\\\leq P\\\\left(A_{1}\\\\right)+P\\\\left(A_{2}\\\\right)$ (prored $) !$.\\n(b) For $n=2, P\\\\left(A_{1} \\\\cup A_{2}\\\\right) \\\\leqslant P\\\\left(A_{1}\\\\right)+P\\\\left(A_{2}\\\\right)$ (from part $(a)$ ). Hence, base case holds thee. Assuming formula is twe for $n=k$, we must now prove formula holds twe for $n=k+1$. ie assume $P\\\\left(\\\\bigcup_{i=1}^{k} A_{i}\\\\right) \\\\leqslant \\\\sum_{i=1}^{k} P\\\\left(A_{i}\\\\right)$ tive, prove $: P\\\\left(\\\\bigcup_{i=1}^{k+1} A_{i}\\\\right) \\\\leqslant \\\\sum_{i=1}^{k+1} P\\\\left(A_{i}\\\\right)$.\\n\\\\[\\n\\\\begin{aligned}\\nP\\\\left(\\\\bigcup_{i=1}^{k+1} A_{i}\\\\right)=P\\\\left(\\\\bigcup_{i=1}^{k} A_{i} \\\\quad U \\\\quad A_{k+1}\\\\right) & \\\\approx P\\\\left(\\\\bigcup_{i=1}^{k} A_{i}\\\\right)+P\\\\left(A_{k+1}\\\\right) \\\\\\\\\\n& \\\\leqslant \\\\sum_{i=1}^{k} P\\\\left(A_{i}\\\\right)+P\\\\left(A_{k+1}\\\\right)\\n\\\\end{aligned}\\n\\\\]\\n$=\\\\sum_{i=1}^{k+1} P\\\\left(A_{i}\\\\right)$ (Showh)/1.\\n(c) $\\\\because \\\\sum_{i=1}^{n} P\\\\left(A_{i}\\\\right)=P\\\\left(A_{1}\\\\right)+P\\\\left(A_{2}\\\\right)+\\\\ldots+P\\\\left(A_{i n}\\\\right)$\\n(d) By De Morgan's Law,\\n$=0+0+\\\\ldots+0$\\n$\\\\begin{aligned} P\\\\left(\\\\bigcup_{i=1}^{n} A_{i}\\\\right) &=\\\\left(A_{1} \\\\cup A_{2} \\\\cup \\\\ldots \\\\cup A_{N}\\\\right)^{c} \\\\\\\\ &=A_{1}{ }^{c} A_{2}{ }^{c} A_{3}{ }^{c} \\\\ldots A_{N}{ }^{c} \\\\end{aligned}$\\n$\\\\sum_{i=1}^{n} P\\\\left(A_{i}\\\\right)=0$\\no: $\\\\bigcup_{i=1}^{n} P\\\\left(A_{i}\\\\right) \\\\leqslant \\\\sum_{i=1}^{n} P\\\\left(A_{i}\\\\right)$ from $\\\\operatorname{Par}+(b)$,\\nthen $\\\\bigcup_{i=1}^{n} P\\\\left(A_{i}\\\\right)=O(\\\\text { show } n)_{11}$.\\n$P\\\\left(\\\\bigcup_{i=1}^{n} A_{i}\\\\right)^{c}=P\\\\left(\\\\bigcap_{i=1}^{n} A_{i}\\\\right)$\\n1\\n$=1-0$\\n$=1$ (shown).\""
            ],
            "application/vnd.google.colaboratory.intrinsic+json": {
              "type": "string"
            }
          },
          "metadata": {},
          "execution_count": 8
        }
      ]
    }
  ]
}